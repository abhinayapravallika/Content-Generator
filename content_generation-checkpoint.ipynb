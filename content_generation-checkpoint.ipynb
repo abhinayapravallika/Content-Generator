{
 "cells": [
  {
   "cell_type": "markdown",
   "id": "08f9d5a7-4e4f-4c2e-8813-d3635b6f036e",
   "metadata": {},
   "source": [
    "# Story_Generation"
   ]
  },
  {
   "cell_type": "code",
   "execution_count": 2,
   "id": "8d1f5eb4-663f-4cdf-aa7b-4f06b3efc8e3",
   "metadata": {},
   "outputs": [
    {
     "name": "stdin",
     "output_type": "stream",
     "text": [
      "Enter a topic (e.g., name, programming language):  Merry cury\n",
      "Enter a tone (e.g., inspirational, humorous, suspenseful):  inspirational\n"
     ]
    },
    {
     "name": "stdout",
     "output_type": "stream",
     "text": [
      "\n",
      "Generated Response:\n",
      "\n",
      "content=\"**The Unlikely Rise of Merry Curry**\\n\\nIn a small village surrounded by lush green rice fields, there lived a young woman named Merry Curry. Her name was a constant reminder of her humble beginnings, as she was named after the humble rice curry that her mother used to cook for the villagers. Merry's life was a struggle, with her parents working multiple jobs to make ends meet. Despite the hardships, Merry's spirit remained unbroken, and her heart remained full of hope.\\n\\nOne day, Merry stumbled upon a small, rundown farm on the outskirts of the village. The owner, an old man named Raja, had given up on his dreams of growing a bountiful harvest. Merry saw an opportunity to turn things around and convinced Raja to let her take over the farm. With her infectious enthusiasm and hard work, Merry single-handedly rejuvenated the farm, coaxing life out of the parched soil.\\n\\nAs the farm flourished, Merry's reputation spread throughout the village. People would come from far and wide to taste her delicious rice curry, made with love and care. Merry's farm became a symbol of hope and resilience, inspiring others to chase their dreams. Years later, Merry Curry's farm was renowned for its bountiful harvests and tasted success, making her a local legend. Her story serves as a reminder that with determination and a pinch of creativity, even the most unlikely person can achieve greatness.\" additional_kwargs={} response_metadata={'token_usage': {'completion_tokens': 288, 'prompt_tokens': 52, 'total_tokens': 340, 'completion_time': 0.24, 'prompt_time': 0.009635695, 'queue_time': 0.023558522, 'total_time': 0.249635695}, 'model_name': 'llama3-8b-8192', 'system_fingerprint': 'fp_a97cfe35ae', 'finish_reason': 'stop', 'logprobs': None} id='run-e6017309-8c08-42c8-a063-c2398749f19a-0' usage_metadata={'input_tokens': 52, 'output_tokens': 288, 'total_tokens': 340}\n"
     ]
    }
   ],
   "source": [
    "import os\n",
    "from langchain_groq import ChatGroq\n",
    "from langchain.prompts import PromptTemplate\n",
    "\n",
    "os.environ[\"GROQ_API_KEY\"] = \"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\"\n",
    "\n",
    "def get_context_type(query):\n",
    "    programming_languages = {\"python\", \"java\", \"c++\", \"javascript\", \"go\", \"rust\"}\n",
    "\n",
    "    query_lower = query.lower()\n",
    "\n",
    "    if query_lower in programming_languages:\n",
    "        return \"programming language\"\n",
    "    else:\n",
    "        return \"character\"  # Default to character if it's not a programming language\n",
    "\n",
    "def generate_response(topic, context, tone=None):\n",
    "    if context == \"character\":\n",
    "        template = \"\"\"\n",
    "        Write a {tone} story about {topic}.\n",
    "        The story should be engaging, creative, and follow a structured flow with an introduction,\n",
    "        middle, and end. Keep it under 300 words.\n",
    "        \"\"\"\n",
    "    elif context == \"programming language\":\n",
    "        template = \"\"\"\n",
    "        Provide an explanation of {topic}, covering its basics, use cases, and why it is important.\n",
    "        Include key features and examples. Keep the explanation concise and informative.\n",
    "        \"\"\"\n",
    "\n",
    "    prompt = PromptTemplate(\n",
    "        input_variables=[\"topic\", \"tone\"] if context == \"character\" else [\"topic\"],\n",
    "        template=template\n",
    "    )\n",
    "\n",
    "    llm = ChatGroq(model_name=\"llama3-8b-8192\")\n",
    "    if context == \"character\":\n",
    "        response = llm.invoke(prompt.format(topic=topic, tone=tone))\n",
    "    else:\n",
    "        response = llm.invoke(prompt.format(topic=topic))\n",
    "\n",
    "    return response\n",
    "\n",
    "topic = input(\"Enter a topic (e.g., name, programming language): \")\n",
    "context = get_context_type(topic)\n",
    "tone = None\n",
    "if context == \"character\":\n",
    "    tone = input(\"Enter a tone (e.g., inspirational, humorous, suspenseful): \")\n",
    "\n",
    "response = generate_response(topic, context, tone)\n",
    "print(\"\\nGenerated Response:\\n\")\n",
    "print(response)"
   ]
  },
  {
   "cell_type": "code",
   "execution_count": 8,
   "id": "dc333d0f-92e5-438d-a55f-9169fbb48e0b",
   "metadata": {},
   "outputs": [
    {
     "data": {
      "text/plain": [
       "langchain_core.messages.ai.AIMessage"
      ]
     },
     "execution_count": 8,
     "metadata": {},
     "output_type": "execute_result"
    }
   ],
   "source": [
    "type(response)"
   ]
  },
  {
   "cell_type": "code",
   "execution_count": 10,
   "id": "4fe915b2-3661-4a66-8efe-653cf46ba9ab",
   "metadata": {},
   "outputs": [
    {
     "data": {
      "text/plain": [
       "\"**The Unlikely Rise of Merry Curry**\\n\\nIn a small village surrounded by lush green rice fields, there lived a young woman named Merry Curry. Her name was a constant reminder of her humble beginnings, as she was named after the humble rice curry that her mother used to cook for the villagers. Merry's life was a struggle, with her parents working multiple jobs to make ends meet. Despite the hardships, Merry's spirit remained unbroken, and her heart remained full of hope.\\n\\nOne day, Merry stumbled upon a small, rundown farm on the outskirts of the village. The owner, an old man named Raja, had given up on his dreams of growing a bountiful harvest. Merry saw an opportunity to turn things around and convinced Raja to let her take over the farm. With her infectious enthusiasm and hard work, Merry single-handedly rejuvenated the farm, coaxing life out of the parched soil.\\n\\nAs the farm flourished, Merry's reputation spread throughout the village. People would come from far and wide to taste her delicious rice curry, made with love and care. Merry's farm became a symbol of hope and resilience, inspiring others to chase their dreams. Years later, Merry Curry's farm was renowned for its bountiful harvests and tasted success, making her a local legend. Her story serves as a reminder that with determination and a pinch of creativity, even the most unlikely person can achieve greatness.\""
      ]
     },
     "execution_count": 10,
     "metadata": {},
     "output_type": "execute_result"
    }
   ],
   "source": [
    "response .content"
   ]
  },
  {
   "cell_type": "markdown",
   "id": "30806b03-4f85-4813-89dc-9d5dcb7d2771",
   "metadata": {},
   "source": [
    "# Image Caption Generation"
   ]
  },
  {
   "cell_type": "code",
   "execution_count": 19,
   "id": "e8124a51-9625-4a73-96a5-f4b71a872dd6",
   "metadata": {},
   "outputs": [],
   "source": [
    "import os\n",
    "os.environ[\"HF_HUB_DISABLE_SYMLINKS_WARNING\"] = \"1\""
   ]
  },
  {
   "cell_type": "code",
   "execution_count": 15,
   "id": "3fece686-fa23-4b81-a319-0e010b85b0e7",
   "metadata": {},
   "outputs": [],
   "source": [
    "import torch\n",
    "from PIL import Image\n",
    "from transformers import BlipProcessor, BlipForConditionalGeneration"
   ]
  },
  {
   "cell_type": "code",
   "execution_count": 23,
   "id": "d91df199-3cdd-4dce-931b-05fc11e8dabc",
   "metadata": {},
   "outputs": [],
   "source": [
    "processor = BlipProcessor.from_pretrained(\"Salesforce/blip-image-captioning-base\")\n",
    "model = BlipForConditionalGeneration.from_pretrained(\"Salesforce/blip-image-captioning-base\")\n",
    "\n",
    "processor.save_pretrained(\"models/blip_model1\")\n",
    "model.save_pretrained(\"models/blip_model2\")"
   ]
  },
  {
   "cell_type": "code",
   "execution_count": 25,
   "id": "10990265-1902-45c7-ad62-a161888caf2a",
   "metadata": {},
   "outputs": [
    {
     "name": "stdout",
     "output_type": "stream",
     "text": [
      "Model load successfully\n"
     ]
    }
   ],
   "source": [
    "processor = BlipProcessor.from_pretrained(\"models/blip_model1\")\n",
    "model = BlipForConditionalGeneration.from_pretrained(\"models/blip_model2\")\n",
    "print(\"Model load successfully\")"
   ]
  },
  {
   "cell_type": "code",
   "execution_count": 29,
   "id": "3b9a6fd8-ea5b-4b98-92be-defe426ffca5",
   "metadata": {},
   "outputs": [],
   "source": [
    "def generate_image_caption(image_path, processor, model):\n",
    "    try:\n",
    "        image = Image.open(image_path).convert(\"RGB\")\n",
    "        inputs = processor(image, return_tensors=\"pt\")\n",
    "        output = model.generate(**inputs)\n",
    "        caption = processor.decode(output[0], skip_special_tokens=True)\n",
    "        return caption\n",
    "    except Exception as e:\n",
    "        return f\"Error generating caption: {str(e)}\""
   ]
  },
  {
   "cell_type": "code",
   "execution_count": 31,
   "id": "8c3cef66-ef2d-4154-8402-639c8cfbf2aa",
   "metadata": {},
   "outputs": [
    {
     "name": "stdout",
     "output_type": "stream",
     "text": [
      "Generated Caption: a circle with the words in red and orange\n"
     ]
    }
   ],
   "source": [
    "image_path = \"example.png\"\n",
    "caption = generate_image_caption(image_path, processor, model)\n",
    "print(\"Generated Caption:\", caption)"
   ]
  },
  {
   "cell_type": "code",
   "execution_count": 80,
   "id": "373ffc53-b9ef-48f3-bfa4-4d7cf49b02a5",
   "metadata": {},
   "outputs": [],
   "source": [
    "def generate_multiple_captions_with_llama(image_path, processor, model, llm, num_captions=5):\n",
    "    try:\n",
    "        image = Image.open(image_path).convert(\"RGB\")\n",
    "        inputs = processor(image, return_tensors=\"pt\")\n",
    "        output = model.generate(\n",
    "            **inputs,\n",
    "            num_beams=num_captions,\n",
    "            num_return_sequences=num_captions,\n",
    "            max_length=50,\n",
    "            early_stopping=True\n",
    "        )\n",
    "        blip_captions = [processor.decode(out, skip_special_tokens=True) for out in output]\n",
    "        refined_captions = []\n",
    "        for caption in blip_captions:\n",
    "            prompt = f\"\"\"Generate {num_captions} short, catchy, and creative captions (each under 8 words) for an image described as: '{caption}'. \n",
    "             Keep the captions crisp, engaging, and suitable for social media or titles. Avoid long sentences.\"\"\"\n",
    "\n",
    "            llm_response = llm.invoke(prompt)\n",
    "        return llm_response\n",
    "\n",
    "    except Exception as e:\n",
    "        return [f\"Error generating captions: {str(e)}\"]\n"
   ]
  },
  {
   "cell_type": "code",
   "execution_count": 82,
   "id": "d159f1bd-d9b5-421c-8cfa-012723152d16",
   "metadata": {},
   "outputs": [
    {
     "name": "stdout",
     "output_type": "stream",
     "text": [
      "Generated Captions:\n",
      "\n"
     ]
    }
   ],
   "source": [
    "llm = ChatGroq(model_name=\"llama3-8b-8192\")\n",
    "image_path = \"example.png\"\n",
    "captions = generate_multiple_captions_with_llama(image_path, processor, model, llm, num_captions=5)\n",
    "\n",
    "print(\"Generated Captions:\\n\")\n"
   ]
  },
  {
   "cell_type": "code",
   "execution_count": 86,
   "id": "39f74c14-1bb5-4a67-9aa6-8b0cf9cacf67",
   "metadata": {},
   "outputs": [
    {
     "data": {
      "text/plain": [
       "AIMessage(content='Here are five short, catchy, and creative captions for the image:\\n\\n1. \"Breaking Down the Breakdown\"\\n2. \"Percentages Within Percentages Uncovered\"\\n3. \"The Pie Chart Puzzle Solved\"\\n4. \"Layers of Data Revealed\"\\n5. \"Unraveling the Numbers\"\\n\\nEach caption is under 8 words, crisp, engaging, and suitable for social media or titles.', additional_kwargs={}, response_metadata={'token_usage': {'completion_tokens': 83, 'prompt_tokens': 72, 'total_tokens': 155, 'completion_time': 0.069166667, 'prompt_time': 0.009060108, 'queue_time': 0.01967551, 'total_time': 0.078226775}, 'model_name': 'llama3-8b-8192', 'system_fingerprint': 'fp_a97cfe35ae', 'finish_reason': 'stop', 'logprobs': None}, id='run-f14baefd-2d24-4521-8a4a-7d7f4f0dbab4-0', usage_metadata={'input_tokens': 72, 'output_tokens': 83, 'total_tokens': 155})"
      ]
     },
     "execution_count": 86,
     "metadata": {},
     "output_type": "execute_result"
    }
   ],
   "source": [
    "captions"
   ]
  },
  {
   "cell_type": "code",
   "execution_count": 88,
   "id": "1674e13a-1f52-4618-b5eb-862f321561bd",
   "metadata": {},
   "outputs": [
    {
     "data": {
      "text/plain": [
       "'Here are five short, catchy, and creative captions for the image:\\n\\n1. \"Breaking Down the Breakdown\"\\n2. \"Percentages Within Percentages Uncovered\"\\n3. \"The Pie Chart Puzzle Solved\"\\n4. \"Layers of Data Revealed\"\\n5. \"Unraveling the Numbers\"\\n\\nEach caption is under 8 words, crisp, engaging, and suitable for social media or titles.'"
      ]
     },
     "execution_count": 88,
     "metadata": {},
     "output_type": "execute_result"
    }
   ],
   "source": [
    "captions.content"
   ]
  },
  {
   "cell_type": "code",
   "execution_count": 90,
   "id": "23c1820e-d51e-450e-b6d0-3dbcfd6dbfc0",
   "metadata": {},
   "outputs": [
    {
     "name": "stdout",
     "output_type": "stream",
     "text": [
      "1. Breaking Down the Breakdown\n",
      "2. Percentages Within Percentages Uncovered\n",
      "3. The Pie Chart Puzzle Solved\n",
      "4. Layers of Data Revealed\n",
      "5. Unraveling the Numbers\n"
     ]
    }
   ],
   "source": [
    "import re\n",
    "pattern = r'\\d+\\.\\s*\"(.*?)\"'\n",
    "captions = re.findall(pattern,captions.content)\n",
    "\n",
    "    # Display the captions one by one\n",
    "for i, caption in enumerate(captions, start=1):\n",
    "    print(f\"{i}. {caption}\")"
   ]
  },
  {
   "cell_type": "markdown",
   "id": "84d2e952-ecee-4732-aa44-1882cb1965e1",
   "metadata": {},
   "source": [
    "# Text To Text Generation"
   ]
  },
  {
   "cell_type": "code",
   "execution_count": 93,
   "id": "5a4bd488-5309-44e5-8121-d3145c5cd13d",
   "metadata": {},
   "outputs": [
    {
     "name": "stdout",
     "output_type": "stream",
     "text": [
      "content='The star!\\n\\nHere are some interesting facts and associations with the word \"star\":\\n\\n1. **Celestial body**: A star is a massive, luminous ball of gas that is held together by its own gravity. Stars are primarily composed of hydrogen and helium, and they generate energy through nuclear reactions in their cores.\\n2. **Symbolism**: Stars have been a symbol of hope, guidance, and inspiration throughout human history. They are often associated with magic, wonder, and the infinite.\\n3. **Navigation**: Stars have been used for navigation and orientation for thousands of years. Sailors, travelers, and astronomers use the positions of stars to determine direction and location.\\n4. **Movies and TV**: The term \"star\" is often used to refer to a famous actor or actress, particularly one who is a leading player in a movie or TV show.\\n5. **Music**: A \"star\" can also refer to a successful musician or band, often one that has achieved widespread recognition and acclaim.\\n6. **Awards**: The \"star\" symbol is often used to represent excellence or achievement, such as a star-shaped award or a \"star student\" designation.\\n7. **Culture**: Stars have been a part of human culture and folklore for thousands of years, featuring in myths, legends, and stories from around the world.\\n8. **Science**: Stars are an important area of study in astronomy, with scientists using observations and data to learn more about their properties, behaviors, and life cycles.\\n\\nSome other interesting facts about stars include:\\n\\n* The nearest star to Earth, aside from the Sun, is Proxima Centauri, which is about 4.24 light-years away.\\n* The largest star known is VY Canis Majoris, which has a radius around 2,100 times larger than the Sun.\\n* Stars come in a wide range of colors, from red to blue, depending on their surface temperature and composition.\\n* The life cycle of a star can be brief, lasting only a few million years, or very long, lasting millions or even billions of years.\\n\\nI hope you found these facts interesting! Do you have any other questions about stars?' additional_kwargs={} response_metadata={'token_usage': {'completion_tokens': 439, 'prompt_tokens': 11, 'total_tokens': 450, 'completion_time': 0.365833333, 'prompt_time': 0.001761775, 'queue_time': 0.018751933, 'total_time': 0.367595108}, 'model_name': 'llama3-8b-8192', 'system_fingerprint': 'fp_6a6771ae9c', 'finish_reason': 'stop', 'logprobs': None} id='run-dd5e8fe7-a1ea-435a-be32-6583492d9414-0' usage_metadata={'input_tokens': 11, 'output_tokens': 439, 'total_tokens': 450}\n"
     ]
    }
   ],
   "source": [
    "from langchain_groq import ChatGroq\n",
    "model = ChatGroq(model=\"llama3-8b-8192\")\n",
    "response = model.invoke(\"star\")\n",
    "print(response)"
   ]
  },
  {
   "cell_type": "code",
   "execution_count": 95,
   "id": "f80b7b65-9d5a-4d51-abf5-388c825c0395",
   "metadata": {},
   "outputs": [
    {
     "data": {
      "text/plain": [
       "'The star!\\n\\nHere are some interesting facts and associations with the word \"star\":\\n\\n1. **Celestial body**: A star is a massive, luminous ball of gas that is held together by its own gravity. Stars are primarily composed of hydrogen and helium, and they generate energy through nuclear reactions in their cores.\\n2. **Symbolism**: Stars have been a symbol of hope, guidance, and inspiration throughout human history. They are often associated with magic, wonder, and the infinite.\\n3. **Navigation**: Stars have been used for navigation and orientation for thousands of years. Sailors, travelers, and astronomers use the positions of stars to determine direction and location.\\n4. **Movies and TV**: The term \"star\" is often used to refer to a famous actor or actress, particularly one who is a leading player in a movie or TV show.\\n5. **Music**: A \"star\" can also refer to a successful musician or band, often one that has achieved widespread recognition and acclaim.\\n6. **Awards**: The \"star\" symbol is often used to represent excellence or achievement, such as a star-shaped award or a \"star student\" designation.\\n7. **Culture**: Stars have been a part of human culture and folklore for thousands of years, featuring in myths, legends, and stories from around the world.\\n8. **Science**: Stars are an important area of study in astronomy, with scientists using observations and data to learn more about their properties, behaviors, and life cycles.\\n\\nSome other interesting facts about stars include:\\n\\n* The nearest star to Earth, aside from the Sun, is Proxima Centauri, which is about 4.24 light-years away.\\n* The largest star known is VY Canis Majoris, which has a radius around 2,100 times larger than the Sun.\\n* Stars come in a wide range of colors, from red to blue, depending on their surface temperature and composition.\\n* The life cycle of a star can be brief, lasting only a few million years, or very long, lasting millions or even billions of years.\\n\\nI hope you found these facts interesting! Do you have any other questions about stars?'"
      ]
     },
     "execution_count": 95,
     "metadata": {},
     "output_type": "execute_result"
    }
   ],
   "source": [
    "response.content"
   ]
  },
  {
   "cell_type": "code",
   "execution_count": 109,
   "id": "4c1eccae-4387-480e-8475-b001d295a96c",
   "metadata": {},
   "outputs": [
    {
     "name": "stdout",
     "output_type": "stream",
     "text": [
      "Extracted Points:\n",
      "\n",
      "1. Celestial body: A star is a massive, luminous ball of gas that is held together by its own gravity. Stars are primarily composed of hydrogen and helium, and they generate energy through nuclear reactions in their cores.\n",
      "2. Symbolism: Stars have been a symbol of hope, guidance, and inspiration throughout human history. They are often associated with magic, wonder, and the infinite.\n",
      "3. Navigation: Stars have been used for navigation and orientation for thousands of years. Sailors, travelers, and astronomers use the positions of stars to determine direction and location.\n",
      "4. Movies and TV: The term \"star\" is often used to refer to a famous actor or actress, particularly one who is a leading player in a movie or TV show.\n",
      "5. Music: A \"star\" can also refer to a successful musician or band, often one that has achieved widespread recognition and acclaim.\n",
      "6. Awards: The \"star\" symbol is often used to represent excellence or achievement, such as a star-shaped award or a \"star student\" designation.\n",
      "7. Culture: Stars have been a part of human culture and folklore for thousands of years, featuring in myths, legends, and stories from around the world.\n",
      "8. Science: Stars are an important area of study in astronomy, with scientists using observations and data to learn more about their properties, behaviors, and life cycles.\n",
      "\n",
      "Some other interesting facts about stars include:\n",
      "\n",
      "* The nearest star to Earth, aside from the Sun, is Proxima Centauri, which is about 4.24 light-years away.\n",
      "* The largest star known is VY Canis Majoris, which has a radius around 2,100 times larger than the Sun.\n",
      "* Stars come in a wide range of colors, from red to blue, depending on their surface temperature and composition.\n",
      "* The life cycle of a star can be brief, lasting only a few million years, or very long, lasting millions or even billions of years.\n",
      "\n",
      "I hope you found these facts interesting! Do you have any other questions about stars?\n",
      "9. *Celestial body**: A star is a massive, luminous ball of gas that is held together by its own gravity. Stars are primarily composed of hydrogen and helium, and they generate energy through nuclear reactions in their cores.\n",
      "10. *Symbolism**: Stars have been a symbol of hope, guidance, and inspiration throughout human history. They are often associated with magic, wonder, and the infinite.\n",
      "11. *Navigation**: Stars have been used for navigation and orientation for thousands of years. Sailors, travelers, and astronomers use the positions of stars to determine direction and location.\n",
      "12. *Movies and TV**: The term \"star\" is often used to refer to a famous actor or actress, particularly one who is a leading player in a movie or TV show.\n",
      "13. *Music**: A \"star\" can also refer to a successful musician or band, often one that has achieved widespread recognition and acclaim.\n",
      "14. *Awards**: The \"star\" symbol is often used to represent excellence or achievement, such as a star-shaped award or a \"star student\" designation.\n",
      "15. *Culture**: Stars have been a part of human culture and folklore for thousands of years, featuring in myths, legends, and stories from around the world.\n",
      "16. *Science**: Stars are an important area of study in astronomy, with scientists using observations and data to learn more about their properties, behaviors, and life cycles.\n",
      "17. The nearest star to Earth, aside from the Sun, is Proxima Centauri, which is about 4.24 light-years away.\n",
      "18. The largest star known is VY Canis Majoris, which has a radius around 2,100 times larger than the Sun.\n",
      "19. Stars come in a wide range of colors, from red to blue, depending on their surface temperature and composition.\n",
      "20. The life cycle of a star can be brief, lasting only a few million years, or very long, lasting millions or even billions of years.\n"
     ]
    },
    {
     "name": "stderr",
     "output_type": "stream",
     "text": [
      "[nltk_data] Downloading package punkt to\n",
      "[nltk_data]     C:\\Users\\Adrien\\AppData\\Roaming\\nltk_data...\n",
      "[nltk_data]   Package punkt is already up-to-date!\n"
     ]
    }
   ],
   "source": [
    "import re\n",
    "import nltk\n",
    "from nltk.tokenize import sent_tokenize\n",
    "\n",
    "# Download punkt tokenizer if not already downloaded\n",
    "nltk.download('punkt')\n",
    "\n",
    "\n",
    "def extract_points(text):\n",
    "    # Step 1: Extract numbered points using regex\n",
    "    numbered_points = re.findall(r'\\d+\\.\\s*\\*\\*(.*?)\\*\\*:?\\s*(.*?)(?=\\n\\d+\\.|\\Z)', text, re.S)\n",
    "\n",
    "    # Step 2: Extract bullet points\n",
    "    bullet_points = re.findall(r'\\*\\s*(.*?)\\n', text)\n",
    "\n",
    "    # Step 3: Extract standalone sentences from the rest of the text\n",
    "    remaining_text = re.sub(r'\\d+\\.\\s*\\*\\*.*?\\*\\*:?.*?(?=\\n\\d+\\.|\\Z)', '', text, flags=re.S)\n",
    "    remaining_text = re.sub(r'\\*\\s*.*?\\n', '', remaining_text)\n",
    "    #sentences = sent_tokenize(remaining_text)\n",
    "\n",
    "    # Combine all extracted points\n",
    "    points = []\n",
    "    for title, desc in numbered_points:\n",
    "        points.append(f\"{title.strip()}: {desc.strip()}\")\n",
    "    points.extend(bullet_points)\n",
    "\n",
    "    # Clean up empty points\n",
    "    points = [point.strip() for point in points if point.strip()]\n",
    "\n",
    "    # Display results\n",
    "    print(\"Extracted Points:\\n\")\n",
    "    for idx, point in enumerate(points, 1):\n",
    "        print(f\"{idx}. {point}\")\n",
    "\n",
    "    return points\n",
    "\n",
    "\n",
    "# Input text\n",
    "input_text = response.content\n",
    "# Call the function\n",
    "points = extract_points(input_text)\n"
   ]
  },
  {
   "cell_type": "code",
   "execution_count": 101,
   "id": "be12c8a5-49a9-45cd-8b14-451789acf843",
   "metadata": {},
   "outputs": [
    {
     "data": {
      "text/plain": [
       "[]"
      ]
     },
     "execution_count": 101,
     "metadata": {},
     "output_type": "execute_result"
    }
   ],
   "source": []
  },
  {
   "cell_type": "code",
   "execution_count": null,
   "id": "54799050-cfe2-41c4-8b8c-b16c409726b5",
   "metadata": {},
   "outputs": [],
   "source": []
  }
 ],
 "metadata": {
  "kernelspec": {
   "display_name": "Python [conda env:base] *",
   "language": "python",
   "name": "conda-base-py"
  },
  "language_info": {
   "codemirror_mode": {
    "name": "ipython",
    "version": 3
   },
   "file_extension": ".py",
   "mimetype": "text/x-python",
   "name": "python",
   "nbconvert_exporter": "python",
   "pygments_lexer": "ipython3",
   "version": "3.12.7"
  }
 },
 "nbformat": 4,
 "nbformat_minor": 5
}
